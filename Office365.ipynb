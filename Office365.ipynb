{
 "cells": [
  {
   "cell_type": "code",
   "execution_count": 1,
   "id": "c87da964-d8b5-43f3-b18f-e0845a2aeee7",
   "metadata": {},
   "outputs": [],
   "source": [
    "import pandas as pd\n",
    "import os\n",
    "import sys\n",
    "from tqdm import tqdm\n",
    "import pytz\n",
    "from datetime import datetime\n",
    "import json"
   ]
  },
  {
   "cell_type": "markdown",
   "id": "c1970f02-0303-4a91-a362-911b8d4b28f9",
   "metadata": {},
   "source": [
    "### Resetear la configuracion de las columnas"
   ]
  },
  {
   "cell_type": "code",
   "execution_count": 2,
   "id": "e26f77f8-295b-428c-a928-9e9d78cbf7d2",
   "metadata": {},
   "outputs": [],
   "source": [
    "pd.reset_option('display.max_rows', None)\n",
    "pd.reset_option('display.max_columns', None)\n"
   ]
  },
  {
   "cell_type": "markdown",
   "id": "75c35b09-37f2-4209-986f-dab0422233f7",
   "metadata": {},
   "source": [
    "### Mostrar todas las columnas"
   ]
  },
  {
   "cell_type": "code",
   "execution_count": 61,
   "id": "fd966843-b28b-4d0b-815f-69161599855a",
   "metadata": {},
   "outputs": [],
   "source": [
    "pd.set_option('display.max_colwidth', None)\n",
    "pd.set_option('display.max_columns', None)"
   ]
  },
  {
   "cell_type": "markdown",
   "id": "41ca273a-7b48-4991-af9f-3aeb4275b1d5",
   "metadata": {},
   "source": [
    "### Mostrar todas las filas"
   ]
  },
  {
   "cell_type": "code",
   "execution_count": 38,
   "id": "4f1101a3-adca-427d-ac8a-a2d9418487d0",
   "metadata": {},
   "outputs": [],
   "source": [
    "pd.set_option('display.max_rows', None)"
   ]
  },
  {
   "cell_type": "markdown",
   "id": "6df4c0ec-bbeb-4487-892b-a402b701f603",
   "metadata": {},
   "source": [
    "## Leer solo un csv"
   ]
  },
  {
   "cell_type": "code",
   "execution_count": 27,
   "id": "8be9faa8-a5f5-4cb6-a59c-63afe26fd92d",
   "metadata": {},
   "outputs": [],
   "source": [
    "df = pd.read_csv(r'C:\\Users\\Desktop\\Forensic\\Empresas\\Office365\\microsoft365prueba\\03f774ab-8d89-4f71-bdd0-4e2e0a53f23f.csv')\n"
   ]
  },
  {
   "cell_type": "markdown",
   "id": "eea4bea7-6b52-4e24-ba41-a07b730b194a",
   "metadata": {},
   "source": [
    "## Juntar varios csv de una carpeta en un csv solo y CAMBIAR LA FECHA A UTC-5"
   ]
  },
  {
   "cell_type": "code",
   "execution_count": 33,
   "id": "28aa9406-aca0-4b1b-97f9-6d9778f9a592",
   "metadata": {},
   "outputs": [
    {
     "name": "stderr",
     "output_type": "stream",
     "text": [
      "Processing files: 100%|████████████████████████████████████████████████████████████████| 30/30 [00:23<00:00,  1.26it/s]\n"
     ]
    }
   ],
   "source": [
    "# Folders que contienen los archivos CSV\n",
    "\n",
    "folder_path = r'C:\\Users\\Desktop\\Forensic\\Empresas\\Office365\\microsoft365'\n",
    "output_path = r'C:\\Users\\Desktop\\Forensic\\Empresas\\Office365\\microsoft_junto.csv'\n",
    "\n",
    "csv_files = [f for f in os.listdir(folder_path) if f.endswith('.csv')]\n",
    "\n",
    "dataframes = []\n",
    "\n",
    "# Funcion para convertir de UTC0 a UTC-5 (Esto es editable y se puede modificar)\n",
    "def convert_utc0_to_utc_minus5(date_str):\n",
    "    date_str = date_str.strip()  \n",
    "    if '.' in date_str:\n",
    "        date_str = date_str[:date_str.index('.') + 7] + 'Z'\n",
    "    utc0 = datetime.strptime(date_str, '%Y-%m-%dT%H:%M:%S.%fZ')\n",
    "    utc0 = utc0.replace(tzinfo=pytz.UTC)\n",
    "    utc_minus5 = utc0.astimezone(pytz.timezone('Etc/GMT+5'))\n",
    "    return utc_minus5.strftime('%Y-%m-%dT%H:%M:%S.%f%z')\n",
    "\n",
    "# Leer y concatenar los archivos csv con una barra de progreso\n",
    "for file in tqdm(csv_files, desc=\"Processing files\"):\n",
    "    df = pd.read_csv(os.path.join(folder_path, file))\n",
    "    # Convertir de UTC0 a UTC-5\n",
    "    if 'CreationDate' in df.columns:\n",
    "        df['CreationDate'] = df['CreationDate'].apply(convert_utc0_to_utc_minus5)\n",
    "    dataframes.append(df)\n",
    "\n",
    "# Concatenar los Dataframes \n",
    "combined_csv = pd.concat(dataframes, ignore_index=True)\n",
    "\n",
    "# Guardar los csv combinados en uno solo\n",
    "combined_csv.to_csv(output_path, index=False)"
   ]
  },
  {
   "cell_type": "code",
   "execution_count": 2,
   "id": "9de275f4-8fae-4bac-9dc4-e2c1f0fd1dd4",
   "metadata": {
    "scrolled": true
   },
   "outputs": [],
   "source": [
    "df = pd.read_csv(r'C:\\Users\\Desktop\\Forensic\\Empresas\\Office365\\microsoft_junto.csv')\n"
   ]
  },
  {
   "cell_type": "markdown",
   "id": "55d2640f-b42e-4828-89f1-7d188140e40b",
   "metadata": {},
   "source": [
    "## Agrupar, contar por Operation y User"
   ]
  },
  {
   "cell_type": "code",
   "execution_count": null,
   "id": "436a6465-b3b1-4af0-8f27-4730d5d0dae4",
   "metadata": {},
   "outputs": [],
   "source": [
    "df = df.sort_values(by='CreationDate', ascending=True)\n",
    "df"
   ]
  },
  {
   "cell_type": "code",
   "execution_count": null,
   "id": "fcc3f200-da72-4bfe-8c56-ad3ee77a889c",
   "metadata": {
    "scrolled": true
   },
   "outputs": [],
   "source": [
    "df_operaciones = df.groupby(['UserId']).size().reset_index(name='conteo').sort_values(by='conteo', ascending=False)\n",
    "df_operaciones"
   ]
  },
  {
   "cell_type": "code",
   "execution_count": null,
   "id": "d2fd854e-95cd-40d8-adca-68a23966a436",
   "metadata": {
    "scrolled": true
   },
   "outputs": [],
   "source": [
    "df_operaciones = df.groupby(['Operation']).size().reset_index(name='conteo').sort_values(by='conteo', ascending=False)\n",
    "df_operaciones"
   ]
  },
  {
   "cell_type": "code",
   "execution_count": null,
   "id": "376d971a-0d2e-4f7e-b7e2-189bdf1badb3",
   "metadata": {
    "scrolled": true
   },
   "outputs": [],
   "source": [
    "df.groupby(['UserId','Operation']).size().reset_index(name='conteo').sort_values(by='UserId', ascending=False)"
   ]
  },
  {
   "cell_type": "markdown",
   "id": "7bf248f1-18e3-4278-9be5-88854b17b6d7",
   "metadata": {},
   "source": [
    "## Funcion para expandir AuditData"
   ]
  },
  {
   "cell_type": "code",
   "execution_count": 8,
   "id": "7f2822eb-578c-4ce3-bea1-040ac6704d70",
   "metadata": {},
   "outputs": [],
   "source": [
    "def expand_json_column(df, json_column):\n",
    "    # Inicializar una lista para almacenar las filas expandidas\n",
    "    expanded_rows = []\n",
    "\n",
    "    # Iterar sobre cada fila del DataFrame con barra de progreso\n",
    "    for _, row in tqdm(df.iterrows(), total=df.shape[0], desc=\"Expanding JSON column\"):\n",
    "        # Convertir la columna JSON a un diccionario\n",
    "        json_data = json.loads(row[json_column])\n",
    "        # Crear un diccionario con la fila original y los datos expandidos\n",
    "        expanded_row = row.drop(labels=[json_column]).to_dict()\n",
    "        expanded_row.update(json_data)\n",
    "        # Agregar el diccionario a la lista de filas expandidas\n",
    "        expanded_rows.append(expanded_row)\n",
    "\n",
    "    # Crear un DataFrame a partir de las filas expandidas\n",
    "    df_expanded = pd.DataFrame(expanded_rows)\n",
    "    return df_expanded"
   ]
  },
  {
   "cell_type": "code",
   "execution_count": null,
   "id": "4eac08c1-62ee-4830-8d09-12d0631ed4f4",
   "metadata": {},
   "outputs": [],
   "source": [
    "df_expanded_Total = expand_json_column(df, 'AuditData')\n",
    "df_expanded_Total"
   ]
  },
  {
   "cell_type": "markdown",
   "id": "b9bea950-377a-4a18-a2f8-c593cba076e2",
   "metadata": {},
   "source": [
    "## Revisar LoggedIn"
   ]
  },
  {
   "cell_type": "code",
   "execution_count": null,
   "id": "d5a79cc4-a5ef-47f2-a732-21013815dd7e",
   "metadata": {
    "scrolled": true
   },
   "outputs": [],
   "source": [
    "df_expanded_UserLoggedIn = df_expanded_Total.loc[df_expanded_Total['Operation'].isin([\"UserLoggedIn\"])].dropna(axis=1, how='all')\n",
    "df_expanded_UserLoggedIn"
   ]
  },
  {
   "cell_type": "markdown",
   "id": "a983bb58-66be-43f4-a030-4e5664b70809",
   "metadata": {},
   "source": [
    "## Leer un csv con información relevante a la IP, como pais, ciudad y ASN dentro de un nuevo dataframe "
   ]
  },
  {
   "cell_type": "code",
   "execution_count": 78,
   "id": "7c5418ab-4861-4012-82ea-d94d190cd5e0",
   "metadata": {},
   "outputs": [],
   "source": [
    "df_solo_paises = pd.read_csv(r'C:\\Users\\Desktop\\Forensic\\Empresas\\Office365\\ips_paises.csv').drop(columns=['conteo'])\n"
   ]
  },
  {
   "cell_type": "markdown",
   "id": "c4695440-9c4e-4cb7-8eb8-276b8536f5b7",
   "metadata": {},
   "source": [
    "## Unir dataframe que quieres revisar con el de la informacion de la IP para hacer más filtros."
   ]
  },
  {
   "cell_type": "code",
   "execution_count": null,
   "id": "10c12ac3-0f41-487f-8867-fc040a6ea340",
   "metadata": {
    "scrolled": true
   },
   "outputs": [],
   "source": [
    "df_expanded_UserLoggedIn = pd.merge(df_expanded_UserLoggedIn , df_solo_paises, on='ClientIP', how='left')\n",
    "df_expanded_UserLoggedIn"
   ]
  },
  {
   "cell_type": "markdown",
   "id": "9ccbc310-0abf-459e-945b-4801c77f8ef7",
   "metadata": {},
   "source": [
    "# Ejemplos de tipos de consultas utiles y como es el formato de las consultas."
   ]
  },
  {
   "cell_type": "code",
   "execution_count": null,
   "id": "a791ae47-9828-4bfe-bff3-b871a63998c4",
   "metadata": {},
   "outputs": [],
   "source": [
    "df_expanded_UserLoggedIn.loc[(df_expanded_UserLoggedIn['Country']!='Peru') & (df_expanded_UserLoggedIn['UserId']=='userEmail')]"
   ]
  },
  {
   "cell_type": "code",
   "execution_count": null,
   "id": "03e10120-2ed3-4e21-87ce-9107d655aafc",
   "metadata": {
    "scrolled": true
   },
   "outputs": [],
   "source": [
    "df_expanded_UserLoggedIn.loc[(df_expanded_UserLoggedIn['Country']!='Peru') & (df_expanded_UserLoggedIn['UserId']!='userEmail')].groupby(['ClientIP','UserId','Country','City','ASN']).size().reset_index(name='conteo').sort_values(by='Country', ascending=False)"
   ]
  },
  {
   "cell_type": "code",
   "execution_count": 40,
   "id": "242b3e32-c987-4fab-975b-f427b1457e5b",
   "metadata": {},
   "outputs": [],
   "source": [
    "df_expanded_UserLoggedIn.groupby(['ClientIP','UserId']).size().reset_index(name='conteo').sort_values(by='ClientIP', ascending=False).groupby(['ClientIP']).size().reset_index(name='conteo').sort_values(by='conteo', ascending=False).to_csv(\"ConteoPorPaises.csv\",index=False)"
   ]
  },
  {
   "cell_type": "code",
   "execution_count": 101,
   "id": "77f218a0-f7c9-42d0-abb9-9d703c38f473",
   "metadata": {
    "scrolled": true
   },
   "outputs": [
    {
     "data": {
      "text/html": [
       "<div>\n",
       "<style scoped>\n",
       "    .dataframe tbody tr th:only-of-type {\n",
       "        vertical-align: middle;\n",
       "    }\n",
       "\n",
       "    .dataframe tbody tr th {\n",
       "        vertical-align: top;\n",
       "    }\n",
       "\n",
       "    .dataframe thead th {\n",
       "        text-align: right;\n",
       "    }\n",
       "</style>\n",
       "<table border=\"1\" class=\"dataframe\">\n",
       "  <thead>\n",
       "    <tr style=\"text-align: right;\">\n",
       "      <th></th>\n",
       "      <th>SourceFileExtension</th>\n",
       "      <th>conteo</th>\n",
       "    </tr>\n",
       "  </thead>\n",
       "  <tbody>\n",
       "    <tr>\n",
       "      <th>36</th>\n",
       "      <td>pdf</td>\n",
       "      <td>6417</td>\n",
       "    </tr>\n",
       "    <tr>\n",
       "      <th>26</th>\n",
       "      <td>jpg</td>\n",
       "      <td>5298</td>\n",
       "    </tr>\n",
       "    <tr>\n",
       "      <th>25</th>\n",
       "      <td>jpeg</td>\n",
       "      <td>1472</td>\n",
       "    </tr>\n",
       "    <tr>\n",
       "      <th>3</th>\n",
       "      <td>JPG</td>\n",
       "      <td>1329</td>\n",
       "    </tr>\n",
       "    <tr>\n",
       "      <th>50</th>\n",
       "      <td>xlsx</td>\n",
       "      <td>1256</td>\n",
       "    </tr>\n",
       "    <tr>\n",
       "      <th>37</th>\n",
       "      <td>png</td>\n",
       "      <td>346</td>\n",
       "    </tr>\n",
       "    <tr>\n",
       "      <th>18</th>\n",
       "      <td>docx</td>\n",
       "      <td>267</td>\n",
       "    </tr>\n",
       "    <tr>\n",
       "      <th>8</th>\n",
       "      <td>PNG</td>\n",
       "      <td>216</td>\n",
       "    </tr>\n",
       "    <tr>\n",
       "      <th>44</th>\n",
       "      <td>txt</td>\n",
       "      <td>190</td>\n",
       "    </tr>\n",
       "    <tr>\n",
       "      <th>47</th>\n",
       "      <td>xls</td>\n",
       "      <td>175</td>\n",
       "    </tr>\n",
       "    <tr>\n",
       "      <th>7</th>\n",
       "      <td>PDF</td>\n",
       "      <td>132</td>\n",
       "    </tr>\n",
       "    <tr>\n",
       "      <th>30</th>\n",
       "      <td>mp4</td>\n",
       "      <td>127</td>\n",
       "    </tr>\n",
       "    <tr>\n",
       "      <th>15</th>\n",
       "      <td>bpm</td>\n",
       "      <td>112</td>\n",
       "    </tr>\n",
       "    <tr>\n",
       "      <th>2</th>\n",
       "      <td>JPEG</td>\n",
       "      <td>109</td>\n",
       "    </tr>\n",
       "    <tr>\n",
       "      <th>0</th>\n",
       "      <td></td>\n",
       "      <td>108</td>\n",
       "    </tr>\n",
       "    <tr>\n",
       "      <th>40</th>\n",
       "      <td>pptx</td>\n",
       "      <td>97</td>\n",
       "    </tr>\n",
       "    <tr>\n",
       "      <th>53</th>\n",
       "      <td>zip</td>\n",
       "      <td>75</td>\n",
       "    </tr>\n",
       "    <tr>\n",
       "      <th>31</th>\n",
       "      <td>msg</td>\n",
       "      <td>38</td>\n",
       "    </tr>\n",
       "    <tr>\n",
       "      <th>49</th>\n",
       "      <td>xlsm</td>\n",
       "      <td>38</td>\n",
       "    </tr>\n",
       "    <tr>\n",
       "      <th>9</th>\n",
       "      <td>TXT</td>\n",
       "      <td>37</td>\n",
       "    </tr>\n",
       "    <tr>\n",
       "      <th>6</th>\n",
       "      <td>MP4</td>\n",
       "      <td>36</td>\n",
       "    </tr>\n",
       "    <tr>\n",
       "      <th>17</th>\n",
       "      <td>doc</td>\n",
       "      <td>28</td>\n",
       "    </tr>\n",
       "    <tr>\n",
       "      <th>12</th>\n",
       "      <td>XLSX</td>\n",
       "      <td>26</td>\n",
       "    </tr>\n",
       "    <tr>\n",
       "      <th>5</th>\n",
       "      <td>MOV</td>\n",
       "      <td>15</td>\n",
       "    </tr>\n",
       "    <tr>\n",
       "      <th>10</th>\n",
       "      <td>XLS</td>\n",
       "      <td>14</td>\n",
       "    </tr>\n",
       "    <tr>\n",
       "      <th>28</th>\n",
       "      <td>log</td>\n",
       "      <td>12</td>\n",
       "    </tr>\n",
       "    <tr>\n",
       "      <th>29</th>\n",
       "      <td>loop</td>\n",
       "      <td>12</td>\n",
       "    </tr>\n",
       "    <tr>\n",
       "      <th>52</th>\n",
       "      <td>xsl</td>\n",
       "      <td>10</td>\n",
       "    </tr>\n",
       "    <tr>\n",
       "      <th>51</th>\n",
       "      <td>xml</td>\n",
       "      <td>10</td>\n",
       "    </tr>\n",
       "    <tr>\n",
       "      <th>41</th>\n",
       "      <td>rar</td>\n",
       "      <td>10</td>\n",
       "    </tr>\n",
       "    <tr>\n",
       "      <th>11</th>\n",
       "      <td>XLSM</td>\n",
       "      <td>8</td>\n",
       "    </tr>\n",
       "    <tr>\n",
       "      <th>33</th>\n",
       "      <td>old</td>\n",
       "      <td>6</td>\n",
       "    </tr>\n",
       "    <tr>\n",
       "      <th>16</th>\n",
       "      <td>css</td>\n",
       "      <td>5</td>\n",
       "    </tr>\n",
       "    <tr>\n",
       "      <th>48</th>\n",
       "      <td>xlsb</td>\n",
       "      <td>5</td>\n",
       "    </tr>\n",
       "    <tr>\n",
       "      <th>32</th>\n",
       "      <td>odt</td>\n",
       "      <td>3</td>\n",
       "    </tr>\n",
       "    <tr>\n",
       "      <th>1</th>\n",
       "      <td>DOCX</td>\n",
       "      <td>3</td>\n",
       "    </tr>\n",
       "    <tr>\n",
       "      <th>39</th>\n",
       "      <td>ppt</td>\n",
       "      <td>3</td>\n",
       "    </tr>\n",
       "    <tr>\n",
       "      <th>19</th>\n",
       "      <td>dwg</td>\n",
       "      <td>3</td>\n",
       "    </tr>\n",
       "    <tr>\n",
       "      <th>21</th>\n",
       "      <td>eml</td>\n",
       "      <td>3</td>\n",
       "    </tr>\n",
       "    <tr>\n",
       "      <th>22</th>\n",
       "      <td>exe</td>\n",
       "      <td>2</td>\n",
       "    </tr>\n",
       "    <tr>\n",
       "      <th>45</th>\n",
       "      <td>vsdx</td>\n",
       "      <td>2</td>\n",
       "    </tr>\n",
       "    <tr>\n",
       "      <th>14</th>\n",
       "      <td>aspx</td>\n",
       "      <td>2</td>\n",
       "    </tr>\n",
       "    <tr>\n",
       "      <th>24</th>\n",
       "      <td>ini</td>\n",
       "      <td>2</td>\n",
       "    </tr>\n",
       "    <tr>\n",
       "      <th>4</th>\n",
       "      <td>LST</td>\n",
       "      <td>1</td>\n",
       "    </tr>\n",
       "    <tr>\n",
       "      <th>46</th>\n",
       "      <td>whiteboard</td>\n",
       "      <td>1</td>\n",
       "    </tr>\n",
       "    <tr>\n",
       "      <th>35</th>\n",
       "      <td>pbix</td>\n",
       "      <td>1</td>\n",
       "    </tr>\n",
       "    <tr>\n",
       "      <th>43</th>\n",
       "      <td>tmp</td>\n",
       "      <td>1</td>\n",
       "    </tr>\n",
       "    <tr>\n",
       "      <th>42</th>\n",
       "      <td>svg</td>\n",
       "      <td>1</td>\n",
       "    </tr>\n",
       "    <tr>\n",
       "      <th>38</th>\n",
       "      <td>pod</td>\n",
       "      <td>1</td>\n",
       "    </tr>\n",
       "    <tr>\n",
       "      <th>34</th>\n",
       "      <td>one</td>\n",
       "      <td>1</td>\n",
       "    </tr>\n",
       "    <tr>\n",
       "      <th>13</th>\n",
       "      <td>ZIP</td>\n",
       "      <td>1</td>\n",
       "    </tr>\n",
       "    <tr>\n",
       "      <th>23</th>\n",
       "      <td>gz</td>\n",
       "      <td>1</td>\n",
       "    </tr>\n",
       "    <tr>\n",
       "      <th>20</th>\n",
       "      <td>edge</td>\n",
       "      <td>1</td>\n",
       "    </tr>\n",
       "    <tr>\n",
       "      <th>27</th>\n",
       "      <td>lnk</td>\n",
       "      <td>1</td>\n",
       "    </tr>\n",
       "  </tbody>\n",
       "</table>\n",
       "</div>"
      ],
      "text/plain": [
       "   SourceFileExtension  conteo\n",
       "36                 pdf    6417\n",
       "26                 jpg    5298\n",
       "25                jpeg    1472\n",
       "3                  JPG    1329\n",
       "50                xlsx    1256\n",
       "37                 png     346\n",
       "18                docx     267\n",
       "8                  PNG     216\n",
       "44                 txt     190\n",
       "47                 xls     175\n",
       "7                  PDF     132\n",
       "30                 mp4     127\n",
       "15                 bpm     112\n",
       "2                 JPEG     109\n",
       "0                          108\n",
       "40                pptx      97\n",
       "53                 zip      75\n",
       "31                 msg      38\n",
       "49                xlsm      38\n",
       "9                  TXT      37\n",
       "6                  MP4      36\n",
       "17                 doc      28\n",
       "12                XLSX      26\n",
       "5                  MOV      15\n",
       "10                 XLS      14\n",
       "28                 log      12\n",
       "29                loop      12\n",
       "52                 xsl      10\n",
       "51                 xml      10\n",
       "41                 rar      10\n",
       "11                XLSM       8\n",
       "33                 old       6\n",
       "16                 css       5\n",
       "48                xlsb       5\n",
       "32                 odt       3\n",
       "1                 DOCX       3\n",
       "39                 ppt       3\n",
       "19                 dwg       3\n",
       "21                 eml       3\n",
       "22                 exe       2\n",
       "45                vsdx       2\n",
       "14                aspx       2\n",
       "24                 ini       2\n",
       "4                  LST       1\n",
       "46          whiteboard       1\n",
       "35                pbix       1\n",
       "43                 tmp       1\n",
       "42                 svg       1\n",
       "38                 pod       1\n",
       "34                 one       1\n",
       "13                 ZIP       1\n",
       "23                  gz       1\n",
       "20                edge       1\n",
       "27                 lnk       1"
      ]
     },
     "execution_count": 101,
     "metadata": {},
     "output_type": "execute_result"
    }
   ],
   "source": [
    "df_expanded_file.groupby(['SourceFileExtension']).size().reset_index(name='conteo').sort_values(by='conteo', ascending=False)"
   ]
  },
  {
   "cell_type": "code",
   "execution_count": null,
   "id": "46f80156-5f92-44d5-aa2f-badb31237ec1",
   "metadata": {},
   "outputs": [],
   "source": [
    "df_expanded_file.loc[df_expanded_file[\"SourceFileExtension\"]==\"gz\"]"
   ]
  }
 ],
 "metadata": {
  "kernelspec": {
   "display_name": "Python 3 (ipykernel)",
   "language": "python",
   "name": "python3"
  },
  "language_info": {
   "codemirror_mode": {
    "name": "ipython",
    "version": 3
   },
   "file_extension": ".py",
   "mimetype": "text/x-python",
   "name": "python",
   "nbconvert_exporter": "python",
   "pygments_lexer": "ipython3",
   "version": "3.11.7"
  }
 },
 "nbformat": 4,
 "nbformat_minor": 5
}
